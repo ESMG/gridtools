{
 "cells": [
  {
   "cell_type": "markdown",
   "id": "057d7a48-3fd3-4453-ae9d-c1f874075903",
   "metadata": {},
   "source": [
    "# ESMG Gridtools Installation Tutorial"
   ]
  },
  {
   "cell_type": "markdown",
   "id": "ab99dc17-6de3-4c11-a850-0f43485ae7ed",
   "metadata": {},
   "source": [
    "\n",
    "<div>\n",
    "    <img src=\"../images/gridApp.png\" width=\"700\" height=\"500\">\n",
    "</div>\n",
    "\n",
    "**In this tutorial, we show how to install the ESMG Gridtool from Github and run the application on a local machine.**\n",
    "<br>\n",
    "\n",
    "**Requirements:**\n",
    "1. Anaconda\n",
    "2. Git\n",
    "\n",
    "Highly recommended:\n",
    "1. Github account\n",
    "\n",
    "We will use Anaconda to manage our Python environments and install the packages required for use. If you don't have Anaconda installed on your machine,\n",
    "please go to [Anaconda's Download Site](https://www.anaconda.com/products/individual) (it's free, open-source software) and install Anaconda for your machine. In addition to Anaconda, [Github tools](https://git-scm.com/download/) must also be installed on your local machine.\n",
    "\n",
    "Lastly, a Github account is highly recommended.  A github account will allow you to fork your own copy of the code as well as contribute changes or enhancements back to the main gridtools repository.\n",
    "\n",
    "***\n"
   ]
  },
  {
   "cell_type": "markdown",
   "id": "922e57e9-c00f-49b4-b840-9090dc01f9a5",
   "metadata": {},
   "source": [
    "# Clone the ESMG/gridtools Repository\n",
    "\n",
    "<div>\n",
    "    <img src=\"../images/clone_esmg.png\" width=\"700\" height=\"700\">\n",
    "</div>\n",
    "\n",
    "<br>\n",
    "<br>\n",
    "\n",
    "1. Identify and/or create directory on your machine for the ESMG/gridtools repository clone \\\n",
    "2. Navigate to the [ESMG/gridtools](https://github.com/ESMG/gridtools) Github Repository \\\n",
    "3. Click the green **Code** button and highlight the HTTPS URL (https://github.com/ESMG/gridtools.git) \\\n",
    "4. Open Terminal (or Command Prompt for Windows Users), navigate to desired installation directory \\\n",
    "5. Run Git Clone to clone the repository\n",
    "   - `git clone https://github.com/ESMG/gridtools.git`\n",
    "  \n",
    "***\n"
   ]
  },
  {
   "cell_type": "markdown",
   "id": "862cc7e8-ca05-4862-9d29-d73aeb772742",
   "metadata": {},
   "source": [
    "# Create Anaconda Environment\n",
    "\n",
    "\n",
    "1. Navigate to the ESMG Gridtools cloned repository, i.e.\n",
    "   - `cd gridtools`\n",
    "\n",
    "2. Create a Gridtools Anaconda Python Environment using `gridTools.yml` from the `conda` folder:\n",
    "   - `conda env create -f conda/gridTools.yml`\n",
    "  \n",
    "3. Activate the Gridtools Environment\n",
    "   - `conda activate gridTools`\n",
    "  \n",
    "***\n",
    "\n",
    " \n"
   ]
  },
  {
   "cell_type": "markdown",
   "id": "b7892dc9-1859-4240-abe9-d82d7c4d06ab",
   "metadata": {},
   "source": [
    "# Install `gridtools` Python Library\n",
    "\n",
    "1. Ensure that the `gridTools` Anaconda environment has been activated. Navigate to the ESMG Gridtools cloned repository. \\\n",
    "2. Run `setup.py` \n",
    "   - `python -m pip install .`\n",
    "\n",
    "At this point, all of the python libraries are installed and we are ready to use gridtools as an application or use as a library in your python scripts!\n",
    "\n",
    "***\n"
   ]
  },
  {
   "cell_type": "markdown",
   "id": "289e267e-a816-4f7e-8994-40ba55f7a0bd",
   "metadata": {},
   "source": [
    "# Option: Interactive Application\n",
    "\n",
    "<div>\n",
    "    <img src=\"../images/runMkGrid.png\" width=\"500\" height=\"500\">\n",
    "</div>\n",
    "\n",
    "<br>\n",
    "\n",
    "\n",
    "A Gridtools Generation Application has been created for grid generation, visualization, and creation via netCDF. A user can toy around with a custom coverage area, grid resolution, projection, tilts, and other aspects to define a grid of their choosing. This is a Panel application that can be spawned from Jupyter Lab/Notebook and will exist in a browser tab, new window, or the Jupyter IPython Notebook itself (depending on your OS, permissions, etc.)\n",
    "<br>\n",
    "<br>\n",
    "1. From the ESMG Gridtools cloned repository directory, open Jupyter Lab *or* Jupyter Notebook\n",
    "   - `jupyter lab` or `jupyter notebook`\n",
    "2. Navigate to the `examples` folder, open `mkGridInteractive.ipynb`\n",
    "3. Run the notebook.\n",
    "4. [Refer to this tutorial](https://github.com/ESMG/gridtools/blob/main/docs/manual/gridtoolAppTutorial.ipynb) on running the application.\n",
    "\n",
    "***\n"
   ]
  },
  {
   "cell_type": "markdown",
   "id": "914903ae-37ff-491e-a3f2-86e1189de27a",
   "metadata": {},
   "source": [
    "# Option: Iterative Coding with Gridtools\n",
    "\n",
    "We can also run the code iteratively using gridtools functionality. This Pythonic route can be achieved in any Python interpreter (Spyder, Jupyter Lab/Notebook, PyCharm, Atom, etc.).  Multiple scripts exist for generating a grid using gridtools functionality in the:\n",
    "- [examples](https://github.com/ESMG/gridtools/blob/main/examples/) directory.  Please read the\n",
    "- [README](https://github.com/ESMG/gridtools/blob/main/examples/README.md) for more information on all the examples."
   ]
  }
 ],
 "metadata": {
  "kernelspec": {
   "display_name": "Python 3",
   "language": "python",
   "name": "python3"
  },
  "language_info": {
   "codemirror_mode": {
    "name": "ipython",
    "version": 3
   },
   "file_extension": ".py",
   "mimetype": "text/x-python",
   "name": "python",
   "nbconvert_exporter": "python",
   "pygments_lexer": "ipython3",
   "version": "3.7.10"
  }
 },
 "nbformat": 4,
 "nbformat_minor": 5
}
