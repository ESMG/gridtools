{
 "cells": [
  {
   "cell_type": "markdown",
   "id": "75c0d130",
   "metadata": {},
   "source": [
    "# mkGridIterative\n",
    "This notebook demonstrates how to use the grid generation library as\n",
    "an iterative method.  This method is iterative in the sense the\n",
    "notebook is rerun each time after adjusting the grid parameters.\n",
    "\n",
    "This notebook reproduces several example grids from Niki Zadah's\n",
    "[notebook](https://github.com/nikizadehgfdl/grid_generation/blob/dev/jupynotebooks/regional_grid_spherical.ipynb).  NOTE: Added a [TODO](https://github.com/ESMG/gridtools/blob/main/docs/development/TODO.md) to review this material based on update to this [repository](https://github.com/nikizadehgfdl/ocean_model_grid_generator)."
   ]
  },
  {
   "cell_type": "code",
   "execution_count": null,
   "id": "c468fd54",
   "metadata": {},
   "outputs": [],
   "source": [
    "# conda: gridTools\n",
    "import os\n",
    "from gridtools.gridutils import GridUtils\n",
    "%matplotlib inline"
   ]
  },
  {
   "cell_type": "code",
   "execution_count": null,
   "id": "af8abd8d-3419-4aca-91ac-67661f522549",
   "metadata": {},
   "outputs": [],
   "source": [
    "# Define a place to write example files\n",
    "wrkDir = '/import/AKWATERS/jrcermakiii/configs/zOutput'\n",
    "inputDir = os.path.join(wrkDir, \"INPUT\")"
   ]
  },
  {
   "cell_type": "code",
   "execution_count": null,
   "id": "3de79fa1",
   "metadata": {},
   "outputs": [],
   "source": [
    "# Instantiate a grid tools library object\n",
    "# Adjust message levels from the library\n",
    "grd = GridUtils()\n",
    "grd.setVerboseLevel('INFO')\n",
    "grd.setDebugLevel(2)"
   ]
  },
  {
   "cell_type": "code",
   "execution_count": null,
   "id": "39a76481",
   "metadata": {},
   "outputs": [],
   "source": [
    "# Demonstrate a plotting error when you attempt to plot a grid without projection information\n",
    "grd.clearGrid()\n",
    "(figure, axes) = grd.plotGrid()"
   ]
  },
  {
   "cell_type": "code",
   "execution_count": null,
   "id": "bf32b600",
   "metadata": {},
   "outputs": [],
   "source": [
    "# Make sure we erase any previous grid, grid parameters and plot parameters.\n",
    "grd.clearGrid()"
   ]
  },
  {
   "cell_type": "markdown",
   "id": "ab84477b",
   "metadata": {},
   "source": [
    "# Lambert Conformal Conic\n",
    "This section demonstrates the generation of a Lambert Conformal Conic\n",
    "grid.  The grid is shown in several different projections.  A grid\n",
    "shown in its native projection should be rectangular as an indication\n",
    "that it is conformal."
   ]
  },
  {
   "cell_type": "code",
   "execution_count": null,
   "id": "2f08b84c",
   "metadata": {
    "tags": []
   },
   "outputs": [],
   "source": [
    "# Specify the grid parameters\n",
    "grd.setGridParameters({\n",
    "    'projection': {\n",
    "        'name': 'LambertConformalConic',\n",
    "        'lon_0': 230.0,\n",
    "        'lat_0': 40.0,\n",
    "        'ellps': 'WGS84'\n",
    "    },\n",
    "    'centerX': 230.0,\n",
    "    'centerY': 40.0,\n",
    "    'centerUnits': 'degrees',\n",
    "    'dx': 20.0,\n",
    "    'dxUnits': 'degrees',\n",
    "    'dy': 30.0,\n",
    "    'dyUnits': 'degrees',\n",
    "    'tilt': 30,\n",
    "    'gridResolution': 1.0,\n",
    "    'gridResolutionUnits': 'degrees',\n",
    "    'gridMode': 2,\n",
    "    'gridType': 'MOM6',\n",
    "    'ensureEvenI': True,\n",
    "    'ensureEvenJ': True,\n",
    "    'tileName': 'tile1',\n",
    "})\n",
    "\n",
    "# To set or update dictionary items in 'projection', you can use the dictionary format above with a direct assigment\n",
    "# or use the subKey parameter as in below.  \n",
    "#grd.setGridParameters({\n",
    "#    'name': 'LambertConformalConic',\n",
    "#    'lon_0': 230.0,\n",
    "#    'lat_0': 40.0,\n",
    "#    'ellps': 'WGS84'\n",
    "#}, subKey='projection')"
   ]
  },
  {
   "cell_type": "code",
   "execution_count": null,
   "id": "673de99d",
   "metadata": {},
   "outputs": [],
   "source": [
    "# This forms a grid in memory using the specified grid parameters\n",
    "grd.makeGrid()"
   ]
  },
  {
   "cell_type": "code",
   "execution_count": null,
   "id": "b1215fa2",
   "metadata": {},
   "outputs": [],
   "source": [
    "# Save the new grid to a netCDF file\n",
    "grd.saveGrid(filename=os.path.join(wrkDir, \"LCC_20x30.nc\"))"
   ]
  },
  {
   "cell_type": "code",
   "execution_count": null,
   "id": "0de10203",
   "metadata": {},
   "outputs": [],
   "source": [
    "# This prints out all the current grid parameters\n",
    "# Note: for Lambert Conformal Conic grids, two additional projection parameters are computed.\n",
    "#       First and second parallel for the grid (lat_1 and lat_2)\n",
    "grd.showGridParameters()"
   ]
  },
  {
   "cell_type": "code",
   "execution_count": null,
   "id": "b0b55eeb",
   "metadata": {},
   "outputs": [],
   "source": [
    "# Show the data summary from xarray for the grid\n",
    "grd.grid"
   ]
  },
  {
   "cell_type": "code",
   "execution_count": null,
   "id": "ded34336",
   "metadata": {},
   "outputs": [],
   "source": [
    "# Define plot parameters so we can see what the grid looks like\n",
    "grd.setPlotParameters(\n",
    "    {\n",
    "        'figsize': (8,8),\n",
    "        'projection': {\n",
    "            'name': 'NearsidePerspective',\n",
    "            'lat_0': 40.0,\n",
    "            'lon_0': 230.0\n",
    "        },\n",
    "        'extent': [-160.0 ,-100.0, 20.0, 60.0],\n",
    "        'iLinewidth': 1.0,\n",
    "        'jLinewidth': 1.0,\n",
    "        'showGridCells': True,\n",
    "        'title': \"Nearside Perspective: 20x30 with 30 degree tilt\",\n",
    "        'iColor': 'y',\n",
    "        'jColor': 'k'\n",
    "    }\n",
    ")\n",
    "\n",
    "# Projection may be specified separately\n",
    "grd.setPlotParameters(\n",
    "    {\n",
    "        'name': 'NearsidePerspective',\n",
    "        'lat_0': 40.0,\n",
    "        'lon_0': 230.0        \n",
    "    }, subKey='projection'\n",
    ")"
   ]
  },
  {
   "cell_type": "code",
   "execution_count": null,
   "id": "6de03698",
   "metadata": {},
   "outputs": [],
   "source": [
    "# When we call plotGrid() we have two python objects returned\n",
    "# Figure object - you have control whether to show the \n",
    "#   figure or save the contents to an output file\n",
    "# Axes object - you can further fine tune plot parameters, \n",
    "#   titles, axis, etc prior to the final plotting of the figure.\n",
    "#   Some items may be configured via the figure object.\n",
    "# Additional parameters can be passed to plotGrid()\n",
    "#   showGridPoints = [] tuples of (j,i) to show grid points on the\n",
    "#   plotted grid.  The tuple may include color, (j,i,'b') and point\n",
    "#   size (j,i,'b',20.0).  The default point size is 5.0.\n",
    "# NOTE: The points refer to the supergrid.  To line up with the regular\n",
    "# grid, the points have to be multiples of two.\n",
    "(figure, axes) = grd.plotGrid(showGridPoints=[(0,0),(10,0,'g'),(0,10,'b',20.0)])"
   ]
  },
  {
   "cell_type": "code",
   "execution_count": null,
   "id": "99da5086",
   "metadata": {},
   "outputs": [],
   "source": [
    "# For display in jupyterlab, place the figure variable solo in a cell\n",
    "figure"
   ]
  },
  {
   "cell_type": "code",
   "execution_count": null,
   "id": "e961e65f",
   "metadata": {},
   "outputs": [],
   "source": [
    "# You can save the figure using the savefig() method on the\n",
    "# figure object.  Many formats are possible.\n",
    "figure.savefig(os.path.join(wrkDir, 'LCC_20x30.png'), dpi=None, facecolor='w', edgecolor='w',\n",
    "        orientation='portrait', transparent=False, bbox_inches=None, pad_inches=0.1)"
   ]
  },
  {
   "cell_type": "code",
   "execution_count": null,
   "id": "8546e524",
   "metadata": {},
   "outputs": [],
   "source": [
    "# Plot last grid also on a Mercator projection\n",
    "grd.setPlotParameters(\n",
    "    {\n",
    "        'figsize': (8,8),\n",
    "        'projection': {\n",
    "            'name': 'Mercator',\n",
    "            'lat_0': 40.0,\n",
    "            'lon_0': 230.0\n",
    "        },\n",
    "        'extent': [-160.0 ,-100.0, 20.0, 60.0],\n",
    "        'iLinewidth': 1.0,\n",
    "        'jLinewidth': 1.0,\n",
    "        'showGridCells': True,\n",
    "        'title': \"Mercator: 20x30 with 30 degree tilt\",\n",
    "        'iColor': 'y',\n",
    "        'jColor': 'k'\n",
    "    }\n",
    ")"
   ]
  },
  {
   "cell_type": "code",
   "execution_count": null,
   "id": "ef38b201",
   "metadata": {},
   "outputs": [],
   "source": [
    "(figure, axes) = grd.plotGrid()"
   ]
  },
  {
   "cell_type": "code",
   "execution_count": null,
   "id": "739d217f",
   "metadata": {},
   "outputs": [],
   "source": [
    "figure"
   ]
  },
  {
   "cell_type": "code",
   "execution_count": null,
   "id": "a505f3df",
   "metadata": {},
   "outputs": [],
   "source": [
    "# Show in Lambert Conformal Conic\n",
    "grd.setPlotParameters(\n",
    "    {\n",
    "        'figsize': (8,8),\n",
    "        'projection': { \n",
    "            'name': 'LambertConformalConic',\n",
    "            'lon_0': 230.0,\n",
    "            'lat_1': 25.0,\n",
    "            'lat_2': 55.0\n",
    "        },\n",
    "        'extent': [-160.0 ,-100.0, 20.0, 60.0],\n",
    "        'iLinewidth': 1.0,\n",
    "        'jLinewidth': 1.0,\n",
    "        'showGridCells': True,\n",
    "        'title': 'Lambert Conformal Conic: 20x30 with 30 degree tilt',\n",
    "        'iColor': 'y',\n",
    "        'jColor': 'k'\n",
    "    }\n",
    ")"
   ]
  },
  {
   "cell_type": "code",
   "execution_count": null,
   "id": "bbd970e3",
   "metadata": {},
   "outputs": [],
   "source": [
    "(figure, axes) = grd.plotGrid()"
   ]
  },
  {
   "cell_type": "code",
   "execution_count": null,
   "id": "06999aeb",
   "metadata": {},
   "outputs": [],
   "source": [
    "figure"
   ]
  },
  {
   "cell_type": "markdown",
   "id": "2106ec73",
   "metadata": {},
   "source": [
    "# Spherical\n",
    "This section demonstrates the generation of a spherical grids."
   ]
  },
  {
   "cell_type": "markdown",
   "id": "4b49b2b0",
   "metadata": {},
   "source": [
    "## Degrees\n",
    "This grid is generated using grid distances specified in degrees.  A grid tilt may also be specified.  These grids may not be conformal!"
   ]
  },
  {
   "cell_type": "code",
   "execution_count": null,
   "id": "6137aa11",
   "metadata": {},
   "outputs": [],
   "source": [
    "grd.clearGrid()"
   ]
  },
  {
   "cell_type": "code",
   "execution_count": null,
   "id": "a8fd96a3",
   "metadata": {},
   "outputs": [],
   "source": [
    "# Specify the grid parameters\n",
    "grd.setGridParameters({\n",
    "    'projection': {\n",
    "        'name': 'Stereographic',\n",
    "        'lon_0': 210.0,\n",
    "        'lat_0': 90.0,\n",
    "        'ellps': 'WGS84'\n",
    "    },\n",
    "    'centerX': 210.0,\n",
    "    'centerY': 90.0,\n",
    "    'centerUnits': 'degrees',\n",
    "    'dx': 60.0,\n",
    "    'dxUnits': 'degrees',\n",
    "    'dy': 60.0,\n",
    "    'dyUnits': 'degrees',\n",
    "    'tilt': 0.0,\n",
    "    'gridResolution': 1.0,\n",
    "    'gridMode': 2,\n",
    "    'gridResolutionUnits': 'degrees',\n",
    "    'gridType': 'MOM6',\n",
    "    'ensureEvenI': True,\n",
    "    'ensureEvenJ': True    \n",
    "})"
   ]
  },
  {
   "cell_type": "code",
   "execution_count": null,
   "id": "657acc4a",
   "metadata": {},
   "outputs": [],
   "source": [
    "grd.makeGrid()"
   ]
  },
  {
   "cell_type": "code",
   "execution_count": null,
   "id": "baa0e116",
   "metadata": {},
   "outputs": [],
   "source": [
    "# Show the new grid\n",
    "grd.setPlotParameters(\n",
    "    {\n",
    "        'figsize': (8,8),\n",
    "        'projection': {\n",
    "            'name': 'NorthPolarStereo',    \n",
    "            'lon_0': 160.0\n",
    "        },\n",
    "        'extent': [-180, 180, 38, 90],\n",
    "        'iLinewidth': 1.0,\n",
    "        'jLinewidth': 1.0,\n",
    "        'showGridCells': True,\n",
    "        'title': 'North Polar Stereo: 120x120',\n",
    "        'iColor': 'y',\n",
    "        'jColor': 'k'\n",
    "    }\n",
    ")"
   ]
  },
  {
   "cell_type": "code",
   "execution_count": null,
   "id": "aa2936e3",
   "metadata": {},
   "outputs": [],
   "source": [
    "(figure, axes) = grd.plotGrid()"
   ]
  },
  {
   "cell_type": "code",
   "execution_count": null,
   "id": "3bb07c06",
   "metadata": {},
   "outputs": [],
   "source": [
    "figure"
   ]
  },
  {
   "cell_type": "code",
   "execution_count": null,
   "id": "f9e719c2",
   "metadata": {},
   "outputs": [],
   "source": [
    "grd.setPlotParameters(\n",
    "    {\n",
    "        'figsize': (8,8),\n",
    "        'projection': {\n",
    "            'name': 'NearsidePerspective',\n",
    "            'lon_0': 230.0,\n",
    "            'lat_0': 90.0\n",
    "        },\n",
    "        'extent': [],\n",
    "        'iLinewidth': 1.0,\n",
    "        'jLinewidth': 1.0,\n",
    "        'showGridCells': True,\n",
    "        'title': \"Nearside Perspective: 60x60\",\n",
    "        'iColor': 'y',\n",
    "        'jColor': 'k'\n",
    "    }\n",
    ")"
   ]
  },
  {
   "cell_type": "code",
   "execution_count": null,
   "id": "af419f96",
   "metadata": {},
   "outputs": [],
   "source": [
    "(figure, axes) = grd.plotGrid()"
   ]
  },
  {
   "cell_type": "code",
   "execution_count": null,
   "id": "71a132bd",
   "metadata": {},
   "outputs": [],
   "source": [
    "figure"
   ]
  },
  {
   "cell_type": "markdown",
   "id": "068cbcec",
   "metadata": {},
   "source": [
    "## Meters\n",
    "This grid is generated using grid distances specified in meters.  Grid tilt is not a valid option.  However, grid rotation may be achieved using the lon_0 projection parameter.\n",
    "\n",
    "The example notebook, mkGridsExample04.ipynb, demonstrates how a spherical grid can be created outside the grid generation library and plotted.  The notebook also shows how to obtain the same grid using the library."
   ]
  },
  {
   "cell_type": "code",
   "execution_count": null,
   "id": "443652e2-a566-473e-852d-baf1a937260f",
   "metadata": {},
   "outputs": [],
   "source": [
    "# South Polar Stereo"
   ]
  },
  {
   "cell_type": "code",
   "execution_count": null,
   "id": "f048413e-3f48-43c5-bd01-5ecaf8d56ef2",
   "metadata": {},
   "outputs": [],
   "source": [
    "grd.clearGrid()"
   ]
  },
  {
   "cell_type": "code",
   "execution_count": null,
   "id": "a3d70563-b681-42f8-a9fa-3fcaec42409f",
   "metadata": {},
   "outputs": [],
   "source": [
    "grd.setGridParameters({\n",
    "    'projection': {\n",
    "        'name': \"Stereographic\",\n",
    "        'ellps': 'WGS84',\n",
    "        'lon_0': 0.0,\n",
    "        'lat_0': -90.0,\n",
    "        'lat_ts': -60.0,\n",
    "    },\n",
    "    'centerX': 90.0,\n",
    "    'centerY': -60.0,\n",
    "    'centerUnits': 'degrees',\n",
    "    'dx': 300000.0,\n",
    "    'dy': 200000.0,\n",
    "    'dxUnits': 'meters',\n",
    "    'dyUnits': 'meters',\n",
    "    'gridResolution': 4000.0,\n",
    "    'gridResolutionUnits': 'meters',\n",
    "    'tilt': 0.0,\n",
    "    'gridMode': 2,\n",
    "    'gridType': 'MOM6',\n",
    "    'ensureEvenI': True,\n",
    "    'ensureEvenJ': True\n",
    "})"
   ]
  },
  {
   "cell_type": "code",
   "execution_count": null,
   "id": "8b579275-fe74-4321-8a57-9f7a0dfc9881",
   "metadata": {},
   "outputs": [],
   "source": [
    "grd.makeGrid()"
   ]
  },
  {
   "cell_type": "code",
   "execution_count": null,
   "id": "c225d0e0-1553-407d-a01b-9f1e760ece82",
   "metadata": {},
   "outputs": [],
   "source": [
    "grd.setPlotParameters(\n",
    "    {\n",
    "        'figsize': (12,12),\n",
    "        'projection': {\n",
    "            'name': 'Stereographic',\n",
    "            'ellps': 'WGS84',\n",
    "            'lon_0': -90.0,\n",
    "            'lat_0': -90.0,\n",
    "            'lat_ts': -60.0,\n",
    "        },\n",
    "        'extent': [80, 100, -68, -58],\n",
    "        'iLinewidth': 1.0,\n",
    "        'jLinewidth': 1.0,\n",
    "        'showGridCells': True,\n",
    "        'title': \"Stereographic: Southern Hemisphere\",\n",
    "        'iColor': 'y',\n",
    "        'jColor': 'k'\n",
    "    }\n",
    ")"
   ]
  },
  {
   "cell_type": "code",
   "execution_count": null,
   "id": "7d52a009-c043-4192-844f-62ee187507df",
   "metadata": {},
   "outputs": [],
   "source": [
    "(figure, axes) = grd.plotGrid()\n",
    "axes.gridlines(draw_labels=True)"
   ]
  },
  {
   "cell_type": "code",
   "execution_count": null,
   "id": "4d5d65e7-6d97-426d-bd9d-2aa86a756824",
   "metadata": {},
   "outputs": [],
   "source": [
    "figure"
   ]
  },
  {
   "cell_type": "markdown",
   "id": "b9082737",
   "metadata": {},
   "source": [
    "# Mercator\n",
    "This section demonstates the generation of mercator grids."
   ]
  },
  {
   "cell_type": "markdown",
   "id": "b1202201",
   "metadata": {},
   "source": [
    "# Degrees\n",
    "This grid is generated using grid distances specified in degrees.  A grid tilt may also be specified but may not produce conformal grids!"
   ]
  },
  {
   "cell_type": "code",
   "execution_count": null,
   "id": "c10d482c",
   "metadata": {},
   "outputs": [],
   "source": [
    "grd.clearGrid()"
   ]
  },
  {
   "cell_type": "code",
   "execution_count": null,
   "id": "28b56df9",
   "metadata": {},
   "outputs": [],
   "source": [
    "# Specify the grid parameters\n",
    "grd.setGridParameters({\n",
    "    'projection': {\n",
    "        'name': 'Mercator',\n",
    "        'lon_0': 230.0,\n",
    "        'lat_0': 40.0,\n",
    "        'ellps': 'WGS84'\n",
    "    },\n",
    "    'centerX': 230.0,\n",
    "    'centerY': 40.0,\n",
    "    'centerUnits': 'degrees',\n",
    "    'dx': 20.0,\n",
    "    'dxUnits': 'degrees',\n",
    "    'dy': 30.0,\n",
    "    'dyUnits': 'degrees',\n",
    "    'tilt': 0.0,\n",
    "    'gridResolution': 1.0,\n",
    "    'gridMode': 2,\n",
    "    'gridResolutionUnits': 'degrees',\n",
    "    'gridType': 'MOM6',\n",
    "    'ensureEvenI': True,\n",
    "    'ensureEvenJ': True,\n",
    "    'tileName': 'tile1',    \n",
    "})"
   ]
  },
  {
   "cell_type": "code",
   "execution_count": null,
   "id": "1c04a39a",
   "metadata": {},
   "outputs": [],
   "source": [
    "# Create the grid\n",
    "grd.makeGrid()"
   ]
  },
  {
   "cell_type": "code",
   "execution_count": null,
   "id": "0ccd1772",
   "metadata": {},
   "outputs": [],
   "source": [
    "# Show the new grid\n",
    "grd.setPlotParameters(\n",
    "    {\n",
    "        'figsize': (8,8),\n",
    "        'projection': {\n",
    "            'name': 'Mercator',\n",
    "            'lat_0': 40.0,\n",
    "            'lon_0': 230.0,\n",
    "            'ellps': 'WGS84'\n",
    "        },\n",
    "        'extent': [-160.0 ,-100.0, 20.0, 60.0],\n",
    "        'iLinewidth': 1.0,\n",
    "        'jLinewidth': 1.0,\n",
    "        'showGridCells': True,\n",
    "        'title': \"Mercator projection: 20x30 with 30 degree tilt\",\n",
    "        'iColor': 'y',\n",
    "        'jColor': 'k'\n",
    "    }\n",
    ")"
   ]
  },
  {
   "cell_type": "code",
   "execution_count": null,
   "id": "add33f00",
   "metadata": {},
   "outputs": [],
   "source": [
    "(figure, axes) = grd.plotGrid()\n",
    "axes.gridlines(draw_labels=True)"
   ]
  },
  {
   "cell_type": "code",
   "execution_count": null,
   "id": "c56521f5",
   "metadata": {},
   "outputs": [],
   "source": [
    "figure"
   ]
  },
  {
   "cell_type": "code",
   "execution_count": null,
   "id": "86b913ab",
   "metadata": {},
   "outputs": [],
   "source": [
    "# Show the new grid\n",
    "grd.setPlotParameters(\n",
    "    {\n",
    "        'figsize': (8,8),\n",
    "        'projection': {\n",
    "            'name': 'NearsidePerspective',\n",
    "            'lat_0': 40.0,\n",
    "            'lon_0': 230.0\n",
    "        },\n",
    "        'extent': [-160.0 ,-100.0, 20.0, 60.0],\n",
    "        'iLinewidth': 1.0,\n",
    "        'jLinewidth': 1.0,\n",
    "        'showGridCells': True,\n",
    "        'title': \"Nearside Perspective: 20x30 with 30 degree tilt\",\n",
    "        'iColor': 'y',\n",
    "        'jColor': 'k'\n",
    "    }\n",
    ")"
   ]
  },
  {
   "cell_type": "code",
   "execution_count": null,
   "id": "2c16f075",
   "metadata": {},
   "outputs": [],
   "source": [
    "(figure, axes) = grd.plotGrid()\n",
    "axes.gridlines(draw_labels=True)"
   ]
  },
  {
   "cell_type": "code",
   "execution_count": null,
   "id": "9d8cb2d7",
   "metadata": {},
   "outputs": [],
   "source": [
    "figure"
   ]
  },
  {
   "cell_type": "markdown",
   "id": "03aa9a39",
   "metadata": {},
   "source": [
    "# Loading grids\n",
    "In these next examples, we load existing grids.  These examples also demonstrate creating figures and presenting them in later notebook cells.\n",
    "The figure and axes objects are made available so additional customization can be performed prior to producing the plot.  This allows for\n",
    "additional control of plots generated by the library."
   ]
  },
  {
   "cell_type": "code",
   "execution_count": null,
   "id": "e4c60823",
   "metadata": {},
   "outputs": [],
   "source": [
    "# Arctic Grid 6km\n",
    "# Demonstration of a North Polar Stereo projection grid\n",
    "# Central longitude of 160.0\n",
    "\n",
    "# Work/INPUT directories\n",
    "arctic6Wrk = '/import/AKWATERS/jrcermakiii/configs/Arctic6'\n",
    "arctic6 = os.path.join(arctic6Wrk, 'INPUT', 'ocean_hgrid.nc')\n",
    "grd.clearGrid()\n",
    "grd.openGrid(arctic6)\n",
    "grd.readGrid()\n",
    "grd.closeGrid()"
   ]
  },
  {
   "cell_type": "code",
   "execution_count": null,
   "id": "bbad983d",
   "metadata": {},
   "outputs": [],
   "source": [
    "grd.setPlotParameters(\n",
    "    {\n",
    "        'figsize': (8,8),\n",
    "        'projection': {\n",
    "            'name': 'NorthPolarStereo',    \n",
    "            'lon_0': 160.0\n",
    "        },\n",
    "        'extent': [-180, 180, 38, 90],\n",
    "        'iLinewidth': 1.0,\n",
    "        'jLinewidth': 1.0,\n",
    "        'showGrid': True,\n",
    "        'title': 'North Polar Stereo: Arctic6',\n",
    "        'iColor': 'y',\n",
    "        'jColor': 'k'\n",
    "    }\n",
    ")"
   ]
  },
  {
   "cell_type": "code",
   "execution_count": null,
   "id": "55c7df57",
   "metadata": {},
   "outputs": [],
   "source": [
    "# In the next to calls to plotGrid() we store the plots to variables\n",
    "# that are shown later.\n",
    "(figureArctic, axesArctic) = grd.plotGrid()\n",
    "axesArctic.gridlines(draw_labels=True)"
   ]
  },
  {
   "cell_type": "code",
   "execution_count": null,
   "id": "00e01aee",
   "metadata": {},
   "outputs": [],
   "source": [
    "# NEP7: North East Pacific Grid\n",
    "# Demonstration of Lambert Conformal Conic projection\n",
    "nep7Wrk = '/import/AKWATERS/jrcermakiii/configs/NEP7'\n",
    "nep7 = os.path.join(nep7Wrk, 'INPUT', 'ocean_hgrid.nc')\n",
    "grd.clearGrid()\n",
    "grd.openGrid(nep7)\n",
    "grd.readGrid()\n",
    "grd.closeGrid()"
   ]
  },
  {
   "cell_type": "code",
   "execution_count": null,
   "id": "096bbcb3",
   "metadata": {},
   "outputs": [],
   "source": [
    "grd.setPlotParameters(\n",
    "    {\n",
    "        'figsize': (8,8),\n",
    "        'projection': {\n",
    "            'name': 'LambertConformalConic',\n",
    "            'lon_0': -91.0,\n",
    "            'lat_1': 40.0,\n",
    "            'lat_2': 60.0\n",
    "        },\n",
    "        'extent': [-180, 180, 10.5, 90],\n",
    "        'iLinewidth': 1.0,\n",
    "        'jLinewidth': 1.0,\n",
    "        'showGrid': True,\n",
    "        'title': 'Lambert Conformal Conic: NEP7',\n",
    "        'iColor': 'y',\n",
    "        'jColor': 'k'\n",
    "    }\n",
    ")"
   ]
  },
  {
   "cell_type": "code",
   "execution_count": null,
   "id": "955de5d5",
   "metadata": {},
   "outputs": [],
   "source": [
    "(figureNEP, axesNEP) = grd.plotGrid()\n",
    "axesNEP.gridlines(draw_labels=True)"
   ]
  },
  {
   "cell_type": "code",
   "execution_count": null,
   "id": "55957dce",
   "metadata": {},
   "outputs": [],
   "source": [
    "# Show the above figures here instead.  Each figure is shown in separate cells.\n",
    "# Only one figure per cell is supported. \n",
    "figureArctic"
   ]
  },
  {
   "cell_type": "code",
   "execution_count": null,
   "id": "04815670",
   "metadata": {},
   "outputs": [],
   "source": [
    "figureNEP"
   ]
  }
 ],
 "metadata": {
  "kernelspec": {
   "display_name": "Python 3",
   "language": "python",
   "name": "python3"
  },
  "language_info": {
   "codemirror_mode": {
    "name": "ipython",
    "version": 3
   },
   "file_extension": ".py",
   "mimetype": "text/x-python",
   "name": "python",
   "nbconvert_exporter": "python",
   "pygments_lexer": "ipython3",
   "version": "3.7.10"
  }
 },
 "nbformat": 4,
 "nbformat_minor": 5
}
