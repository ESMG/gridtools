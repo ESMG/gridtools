{
 "cells": [
  {
   "cell_type": "code",
   "execution_count": null,
   "id": "830f737b-90bf-4121-bcff-8c8982c897db",
   "metadata": {},
   "outputs": [],
   "source": [
    "# This notebook is similar to the python script Example 7\n",
    "# This notebook also uses extended grids as a workaround\n",
    "# to overcome quirks with the bathymetric roughness routine."
   ]
  },
  {
   "cell_type": "code",
   "execution_count": null,
   "id": "45ea4f07-0894-4ca2-8421-531a7cebedc3",
   "metadata": {},
   "outputs": [],
   "source": [
    "# conda: gridTools"
   ]
  },
  {
   "cell_type": "code",
   "execution_count": null,
   "id": "950e9cea-e786-446a-9c86-2ec307fff543",
   "metadata": {},
   "outputs": [],
   "source": [
    "# We utilize the 20x30 example grid along the\n",
    "# California coast."
   ]
  },
  {
   "cell_type": "code",
   "execution_count": null,
   "id": "b2027415-da36-430b-94d4-9b74ab430470",
   "metadata": {},
   "outputs": [],
   "source": [
    "import sys, os, logging\n",
    "from gridtools.gridutils import GridUtils\n",
    "from gridtools.datasource import DataSource\n",
    "\n",
    "import cartopy\n",
    "import xarray as xr\n",
    "%matplotlib inline"
   ]
  },
  {
   "cell_type": "code",
   "execution_count": null,
   "id": "4f1d21c9-8533-4c14-9483-2726b8137084",
   "metadata": {},
   "outputs": [],
   "source": [
    "# Setup a work directory\n",
    "#wrkDir = '/home/cermak/mom6/configs/zOutput'\n",
    "wrkDir = '/import/AKWATERS/jrcermakiii/configs/zOutput'\n",
    "inputDir = os.path.join(wrkDir, \"INPUT\")"
   ]
  },
  {
   "cell_type": "code",
   "execution_count": null,
   "id": "ecd6a367-3a24-4c1b-a99e-e070944863be",
   "metadata": {},
   "outputs": [],
   "source": [
    "# Initialize a grid object\n",
    "grd = GridUtils()"
   ]
  },
  {
   "cell_type": "code",
   "execution_count": null,
   "id": "36e63977-ade1-4326-8538-9a2a6ae81bcf",
   "metadata": {},
   "outputs": [],
   "source": [
    "# We can turn on extra output from the module\n",
    "grd.printMsg(\"Setting print and logging messages to the DEBUG level.\")\n",
    "logFilename = os.path.join(wrkDir, 'LCC_20x30_7b.log')\n",
    "grd.setVerboseLevel(logging.DEBUG)\n",
    "grd.setDebugLevel(0)\n",
    "grd.setLogLevel(logging.DEBUG)\n",
    "grd.deleteLogfile(logFilename)\n",
    "grd.enableLogging(logFilename)"
   ]
  },
  {
   "cell_type": "code",
   "execution_count": null,
   "id": "00dfc67f-98b6-431a-9bae-74a81045ba47",
   "metadata": {},
   "outputs": [],
   "source": [
    "# Make sure we erase any previous grid, grid parameters and plot parameters.\n",
    "grd.clearGrid()\n",
    "\n",
    "# Specify the grid parameters\n",
    "# gridMode should be 2.0 for supergrid\n",
    "# Normally 30.0; 0.0 for debugging\n",
    "gtilt = 30.0\n",
    "grd.printMsg(\"Set grid parameters.\")\n",
    "grd.setGridParameters({\n",
    "    'projection': {\n",
    "        'name': 'LambertConformalConic',\n",
    "        'lon_0': 230.0,\n",
    "        'lat_0': 40.0,\n",
    "        'ellps': 'WGS84'\n",
    "    },\n",
    "    'centerX': 230.0,\n",
    "    'centerY': 40.0,\n",
    "    'centerUnits': 'degrees',\n",
    "    'dx': 20.0,\n",
    "    'dxUnits': 'degrees',\n",
    "    'dy': 30.0,\n",
    "    'dyUnits': 'degrees',\n",
    "    'tilt': gtilt,\n",
    "    'gridResolutionX': 1.0,\n",
    "    'gridResolutionY': 1.0,\n",
    "    'gridResolution': 1.0,\n",
    "    'gridResolutionXUnits': 'degrees',\n",
    "    'gridResolutionYUnits': 'degrees',\n",
    "    'gridResolutionUnits': 'degrees',\n",
    "    'gridMode': 2,\n",
    "    'gridType': 'MOM6',\n",
    "    'ensureEvenI': True,\n",
    "    'ensureEvenJ': True,\n",
    "    'tileName': 'tile1',\n",
    "})\n",
    "grd.printMsg(\"\")"
   ]
  },
  {
   "cell_type": "code",
   "execution_count": null,
   "id": "1e16fee6-6b2c-4cc5-9efd-74a4bd1ca79f",
   "metadata": {},
   "outputs": [],
   "source": [
    "# This forms a grid in memory using the specified grid parameters\n",
    "grd.makeGrid()\n",
    "grd.printMsg(\"\")"
   ]
  },
  {
   "cell_type": "code",
   "execution_count": null,
   "id": "f85ea2a8-d530-4aa8-ac61-66fba26d309f",
   "metadata": {},
   "outputs": [],
   "source": [
    "# External data sources are required\n",
    "# This creates an empty data source catalog\n",
    "ds = DataSource()\n",
    "\n",
    "# Connect the catalog to the grid object\n",
    "grd.useDataSource(ds)\n",
    "\n",
    "# For variableMap, matching variable values will be renamed to the\n",
    "# variable key.  For evalMap, variables in the expression need\n",
    "# to be in brackets.  If the key is new, a new field will be\n",
    "# created with the given expression.\n",
    "ds.addDataSource({\n",
    "    'GEBCO_2020': {\n",
    "            'url' : 'file:/import/AKWATERS/jrcermakiii/bathy/gebco/GEBCO_2020.nc',\n",
    "            'variableMap' : {\n",
    "                    'lat': 'lat',\n",
    "                    'lon': 'lon',\n",
    "                    'depth' : 'elevation'\n",
    "                },\n",
    "            'evalMap': {\n",
    "                    'depth' : '-[depth]'\n",
    "                }\n",
    "        }\n",
    "})\n"
   ]
  },
  {
   "cell_type": "code",
   "execution_count": null,
   "id": "b91fe4ad-f3b8-4e95-880c-6dd7f7a2ed6e",
   "metadata": {},
   "outputs": [],
   "source": [
    "# Save the catalog just for demonstration\n",
    "ds.saveCatalog(os.path.join(wrkDir, 'catalog.json'))\n",
    "ds.saveCatalog(os.path.join(wrkDir, 'catalog.yaml'))"
   ]
  },
  {
   "cell_type": "code",
   "execution_count": null,
   "id": "f82fa522-4c0f-413d-b3a8-22e202a626ba",
   "metadata": {},
   "outputs": [],
   "source": [
    "# We do not need to compute bathymetric roughness if we have an existing file\n",
    "# Increase the memory footprint (maxMb) to allow more mesh refinements to\n",
    "# be used from the topography.\n",
    "bathyGridFilename = os.path.join(wrkDir, 'ocean_topog_Example7b.nc')\n",
    "\n",
    "if os.path.isfile(bathyGridFilename):\n",
    "    grd.printMsg(\"Using existing bathymetry file: %s\" % (bathyGridFilename))\n",
    "    bathyGrids = xr.open_dataset(bathyGridFilename)\n",
    "else:\n",
    "    # This routine cannont use data sources that are in chunked mode (dask)\n",
    "    \n",
    "    # The grid is extended to provide additional points for the\n",
    "    # roughness routine to utilize.  The bathymetric and roughness\n",
    "    # grid is on the regular grid, so the underlying supergrid has to\n",
    "    # be extended by two points.\n",
    "    extGrd = grd.extendGrid(2, 2, 2, 2)\n",
    "    \n",
    "    # Put the extended grid into a gridtools grid.  Attach it to\n",
    "    # the same data source as above.\n",
    "    grd2 = GridUtils()\n",
    "    grd2.useDataSource(ds)\n",
    "    grd2.readGrid(local=extGrd)\n",
    "    \n",
    "    # Bathymetric roughness is computed on the extended grid\n",
    "    requestedVariables = ['hStd', 'hMin', 'hMax', 'depth']\n",
    "    bathyGrids2 = grd2.computeBathymetricRoughness('ds:GEBCO_2020',\n",
    "            maxMb=99, superGrid=False, useClipping=False,\n",
    "            useOverlap=True, useQHGridShift=False, extendedGrid=True,\n",
    "            auxVariables=requestedVariables\n",
    "    )\n",
    "\n",
    "    # This is needed to really convert the elevation field to depth\n",
    "    # The 'depth' field has to be requested as an auxVariables\n",
    "    grd.applyEvalMap('ds:GEBCO_2020', bathyGrids2)\n",
    "    \n",
    "    # The extended grid is reduced back to the original size.\n",
    "    # Information needs to be placed in a new xarray so variables\n",
    "    # have dimensional consistency.  The field h2 is implicitly\n",
    "    # provided above, so it needs to be added to the list.\n",
    "    requestedVariables.append('h2')\n",
    "    bathyGrids = xr.Dataset()\n",
    "    for vrb in requestedVariables:\n",
    "        bathyGrids[vrb] = bathyGrids2[vrb][1:-1,1:-1].copy()\n",
    "    \n",
    "    # Write ocean_mask and land_mask based on existing field with\n",
    "    # a standard MASKING_DEPTH of 0.0 meters.  The next part of this\n",
    "    # example will set a MINIMUM_DEPTH of 1000.0 meters for comparison.\n",
    "    grd.writeOceanmask(bathyGrids, 'depth', 'mask',\n",
    "            os.path.join(wrkDir, 'ocean_mask_Example7b.nc'),\n",
    "            MASKING_DEPTH=0.0)\n",
    "    grd.writeLandmask(bathyGrids, 'depth', 'mask',\n",
    "            os.path.join(wrkDir, 'land_mask_Example7b.nc'),\n",
    "            MASKING_DEPTH=0.0)\n",
    "    \n",
    "    # Apply existing land mask which should not change anything\n",
    "    # The minimum depth will modify a couple points.   We save the\n",
    "    # new field as 'newDepth' to allow comparison with 'depth'.\n",
    "    \n",
    "    # Argument notes:\n",
    "    #  * NOTE: The selection of the 1000.0 meter depth is arbitrary is for the purpose of demonstration.\n",
    "    #  * Any ocean mask points shallower than a depth of 1000.0 meters will be set to 1000.0 meters\n",
    "    #  * Any land mask points that become ocean will be set to a depth of 1000.0 meters\n",
    "    #  * Any ocean points that become land will have a depth of 0.0 meters\n",
    "    \n",
    "    bathyGrids['newDepth'] = grd.applyExistingLandmask(bathyGrids, 'depth',\n",
    "            os.path.join(wrkDir, 'land_mask_Example7b.nc'), 'mask',\n",
    "            MASKING_DEPTH=0.0, MINIMUM_DEPTH=1000.0, MAXIMUM_DEPTH=-99999.0)\n",
    "    bathyGrids['newDepth'].attrs['units'] = 'meters'\n",
    "    bathyGrids['newDepth'].attrs['standard_name'] = 'topographic depth at Arakawa C h-points'\n",
    "\n",
    "    # Write grid variables out to a file\n",
    "    # TODO: provide a data source service hook?\n",
    "    bathyGrids.to_netcdf(os.path.join(wrkDir, 'ocean_topog_Example7b.nc'),\n",
    "            encoding=grd.removeFillValueAttributes(data=bathyGrids))"
   ]
  },
  {
   "cell_type": "code",
   "execution_count": null,
   "id": "9f10f546-555b-4c59-9f21-a8484b2a08f0",
   "metadata": {},
   "outputs": [],
   "source": [
    "grd.saveGrid(filename=os.path.join(wrkDir, \"LCC_20x30_Example7b.nc\"))"
   ]
  },
  {
   "cell_type": "code",
   "execution_count": null,
   "id": "a7a201e6-9e01-4423-85e3-9b34505d0300",
   "metadata": {},
   "outputs": [],
   "source": [
    "# Write out FMS related support files\n",
    "grd.makeSoloMosaic(\n",
    "    topographyGrid=bathyGrids['newDepth'],\n",
    "    writeLandmask=True,\n",
    "    writeOceanmask=True,\n",
    "    inputDirectory=inputDir,\n",
    "    overwrite=True,\n",
    ")\n",
    "grd.saveGrid(filename=os.path.join(inputDir, \"ocean_hgrid_7b.nc\"))"
   ]
  },
  {
   "cell_type": "code",
   "execution_count": null,
   "id": "d39a35f4-7efb-438d-97da-9acf17d92db3",
   "metadata": {},
   "outputs": [],
   "source": [
    "# Do some plotting!"
   ]
  },
  {
   "cell_type": "code",
   "execution_count": null,
   "id": "55087c90-a7ef-45db-9617-2df5c8d8a16e",
   "metadata": {},
   "outputs": [],
   "source": [
    "# Set plot parameters for the grid and topography\n",
    "\n",
    "grd.setPlotParameters(\n",
    "    {\n",
    "        'figsize': (8,8),\n",
    "        'projection': {\n",
    "            'name': 'NearsidePerspective',\n",
    "            'lat_0': 40.0,\n",
    "            'lon_0': 230.0\n",
    "        },\n",
    "        'extent': [-160.0 ,-100.0, 20.0, 60.0],\n",
    "        'iLinewidth': 1.0,\n",
    "        'jLinewidth': 1.0,\n",
    "        'showGridCells': False,\n",
    "        'title': \"Nearside Perspective: 20x30 with %.1f degree tilt\" % (gtilt),\n",
    "        'iColor': 'k',\n",
    "        'jColor': 'k',\n",
    "        'transform': cartopy.crs.PlateCarree(),\n",
    "        'satelliteHeight': 35785831.0,\n",
    "    }\n",
    ")"
   ]
  },
  {
   "cell_type": "code",
   "execution_count": null,
   "id": "a6076604-408b-4de0-b30e-92adc997ac37",
   "metadata": {},
   "outputs": [],
   "source": [
    "# Show the model grid only\n",
    "grd.setPlotParameters({'showGridCells': False})\n",
    "(figure, axes) = grd.plotGrid()"
   ]
  },
  {
   "cell_type": "code",
   "execution_count": null,
   "id": "6882d187-c7b3-4e76-be9d-fc6d60c4647d",
   "metadata": {},
   "outputs": [],
   "source": [
    "figure"
   ]
  },
  {
   "cell_type": "code",
   "execution_count": null,
   "id": "325a2501-6f0d-495a-8282-612d436564c2",
   "metadata": {},
   "outputs": [],
   "source": [
    "figure.savefig(os.path.join(wrkDir, 'LCC_20x30_ModelGrid_7b.png'), dpi=None, facecolor='w', edgecolor='w',\n",
    "        orientation='landscape', transparent=False, bbox_inches=None, pad_inches=0.1)"
   ]
  },
  {
   "cell_type": "code",
   "execution_count": null,
   "id": "9ddbe37c-05e1-4bfc-93d7-a3a884e904c1",
   "metadata": {},
   "outputs": [],
   "source": [
    "# Show the model grid cells\n",
    "grd.setPlotParameters({'showGridCells': True})\n",
    "(figure, axes) = grd.plotGrid()"
   ]
  },
  {
   "cell_type": "code",
   "execution_count": null,
   "id": "6d04fc49-ce87-498d-aba8-ac7165e85854",
   "metadata": {},
   "outputs": [],
   "source": [
    "figure"
   ]
  },
  {
   "cell_type": "code",
   "execution_count": null,
   "id": "3334670e-273e-4770-8c06-a7c23e8fec7e",
   "metadata": {},
   "outputs": [],
   "source": [
    "figure.savefig(os.path.join(wrkDir, 'LCC_20x30_ModelGridCells_7b.png'), dpi=None, facecolor='w', edgecolor='w',\n",
    "        orientation='landscape', transparent=False, bbox_inches=None, pad_inches=0.1)"
   ]
  },
  {
   "cell_type": "code",
   "execution_count": null,
   "id": "67e0f4fb-eb5f-4045-afd1-6d2f48e8f370",
   "metadata": {},
   "outputs": [],
   "source": [
    "# Show the model grid cells\n",
    "grd.setPlotParameters(\n",
    "    {\n",
    "        'showSupergrid': True,\n",
    "        'showGridCells': False,\n",
    "        'title': \"Nearside Perspective: 20x30 with %.1f degree tilt (supergrid)\" % (gtilt)\n",
    "    }\n",
    ")\n",
    "(figure, axes) = grd.plotGrid()"
   ]
  },
  {
   "cell_type": "code",
   "execution_count": null,
   "id": "cea271d2-5335-40f5-9f7e-f395a4c91e99",
   "metadata": {},
   "outputs": [],
   "source": [
    "figure"
   ]
  },
  {
   "cell_type": "code",
   "execution_count": null,
   "id": "3e9591d4-1202-4d2e-92b8-f9d904cbb977",
   "metadata": {},
   "outputs": [],
   "source": [
    "figure.savefig(os.path.join(wrkDir, 'LCC_20x30_ModelSupergrid.png'), dpi=None, facecolor='w', edgecolor='w',\n",
    "        orientation='landscape', transparent=False, bbox_inches=None, pad_inches=0.1)"
   ]
  },
  {
   "cell_type": "code",
   "execution_count": null,
   "id": "7f5c05b6-085c-49f9-a376-e9cb7eca8b13",
   "metadata": {},
   "outputs": [],
   "source": [
    "# Turn off plotting of the supergrid cells\n",
    "grd.setPlotParameters(\n",
    "    {\n",
    "        'showSupergrid': False,\n",
    "        'showGridCells': True,\n",
    "    }\n",
    ")"
   ]
  },
  {
   "cell_type": "code",
   "execution_count": null,
   "id": "e18abe97-54cb-4567-90f4-e2eaa4ec38ea",
   "metadata": {},
   "outputs": [],
   "source": [
    "# Plot original depth grid after running computeBathyRoughness()\n",
    "(figure, axes) = grd.plotGrid(\n",
    "    showModelGrid=False,\n",
    "    plotVariables={\n",
    "        'depth': {\n",
    "            'values': bathyGrids['depth'],\n",
    "            'title': 'Original diagnosed bathymetric field',\n",
    "            'cbar_kwargs': {\n",
    "                'orientation': 'horizontal',\n",
    "            }\n",
    "        }\n",
    "    },\n",
    ")"
   ]
  },
  {
   "cell_type": "code",
   "execution_count": null,
   "id": "0bc7c212-678d-423e-95f8-5ffdbb0fb90d",
   "metadata": {},
   "outputs": [],
   "source": [
    "figure"
   ]
  },
  {
   "cell_type": "code",
   "execution_count": null,
   "id": "2087cd42-af74-49c5-9ebf-fd193df581d6",
   "metadata": {},
   "outputs": [],
   "source": [
    "figure.savefig(os.path.join(wrkDir, 'LCC_20x30_OrigBathy_7b.png'), dpi=None, facecolor='w', edgecolor='w',\n",
    "        orientation='landscape', transparent=False, bbox_inches=None, pad_inches=0.1)"
   ]
  },
  {
   "cell_type": "code",
   "execution_count": null,
   "id": "5fc9433e-cae3-4a2f-9601-32bc7a28f339",
   "metadata": {},
   "outputs": [],
   "source": [
    "# Plot depth grid after we apply an existing landmask with minimum\n",
    "# depth set to 1000 meters\n",
    "(figure, axes) = grd.plotGrid(\n",
    "    showModelGrid=False,\n",
    "    plotVariables={\n",
    "        'depth': {\n",
    "            'values': bathyGrids['newDepth'],\n",
    "            'title': 'Bathymetric grid with 1000 meter minimum depth',\n",
    "            'cbar_kwargs': {\n",
    "                'orientation': 'horizontal',\n",
    "            }\n",
    "        }\n",
    "    },\n",
    ")"
   ]
  },
  {
   "cell_type": "code",
   "execution_count": null,
   "id": "4c3f8a33-7e84-4849-8291-30efb59eef63",
   "metadata": {},
   "outputs": [],
   "source": [
    "figure"
   ]
  },
  {
   "cell_type": "code",
   "execution_count": null,
   "id": "75861994-563e-4a62-bddd-68aa4e1813bb",
   "metadata": {},
   "outputs": [],
   "source": [
    "figure.savefig(os.path.join(wrkDir, 'LCC_20x30_MinBathy_7b.png'), dpi=None, facecolor='w', edgecolor='w',\n",
    "        orientation='landscape', transparent=False, bbox_inches=None, pad_inches=0.1)"
   ]
  },
  {
   "cell_type": "code",
   "execution_count": null,
   "id": "6dea6b03-aa13-46f2-ba5b-1ac94f117000",
   "metadata": {},
   "outputs": [],
   "source": [
    "# Show the difference between 'newDepth' and 'depth'\n",
    "(figure, axes) = grd.plotGrid(\n",
    "    showModelGrid=False,\n",
    "    plotVariables={\n",
    "        'depth': {\n",
    "            'values': bathyGrids['newDepth'] - bathyGrids['depth'],\n",
    "            'title': 'Bathymetric depth difference',\n",
    "            'cbar_kwargs': {\n",
    "                'orientation': 'horizontal',\n",
    "            }\n",
    "        }\n",
    "    },\n",
    ")"
   ]
  },
  {
   "cell_type": "code",
   "execution_count": null,
   "id": "3334b5fc-a1e2-41ac-8930-ff724f3d4abd",
   "metadata": {},
   "outputs": [],
   "source": [
    "figure"
   ]
  },
  {
   "cell_type": "code",
   "execution_count": null,
   "id": "c5e9d0c3-e2ec-4a1a-bd98-fb8d924d6cdd",
   "metadata": {},
   "outputs": [],
   "source": [
    "figure.savefig(os.path.join(wrkDir, 'LCC_20x30_BathyDelta_7b.png'), dpi=None, facecolor='w', edgecolor='w',\n",
    "        orientation='landscape', transparent=False, bbox_inches=None, pad_inches=0.1)"
   ]
  },
  {
   "cell_type": "code",
   "execution_count": null,
   "id": "47a6b630-ce80-40b2-af23-714a54f2790c",
   "metadata": {},
   "outputs": [],
   "source": [
    "# Show h2 diagnosed parameter\n",
    "(figure, axes) = grd.plotGrid(\n",
    "    showModelGrid=False,\n",
    "    plotVariables={\n",
    "        'h2': {\n",
    "            'values': bathyGrids['h2'],\n",
    "            'title': 'Bathymetric roughness (h2)',\n",
    "            'cbar_kwargs': {\n",
    "                'orientation': 'horizontal',\n",
    "            }\n",
    "        }\n",
    "    },\n",
    ")"
   ]
  },
  {
   "cell_type": "code",
   "execution_count": null,
   "id": "ad244823-06a6-49e9-84b7-b933dee416dd",
   "metadata": {},
   "outputs": [],
   "source": [
    "figure"
   ]
  },
  {
   "cell_type": "code",
   "execution_count": null,
   "id": "4ca460ac-18c2-40c2-aaf5-d8506d2b9992",
   "metadata": {},
   "outputs": [],
   "source": [
    "figure.savefig(os.path.join(wrkDir, 'LCC_20x30_h2_7b.png'), dpi=None, facecolor='w', edgecolor='w',\n",
    "        orientation='landscape', transparent=False, bbox_inches=None, pad_inches=0.1)"
   ]
  }
 ],
 "metadata": {
  "kernelspec": {
   "display_name": "Python 3",
   "language": "python",
   "name": "python3"
  },
  "language_info": {
   "codemirror_mode": {
    "name": "ipython",
    "version": 3
   },
   "file_extension": ".py",
   "mimetype": "text/x-python",
   "name": "python",
   "nbconvert_exporter": "python",
   "pygments_lexer": "ipython3",
   "version": "3.7.10"
  }
 },
 "nbformat": 4,
 "nbformat_minor": 5
}
