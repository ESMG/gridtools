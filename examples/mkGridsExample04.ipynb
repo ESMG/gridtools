{
 "cells": [
  {
   "cell_type": "code",
   "execution_count": null,
   "id": "9e4a838c",
   "metadata": {},
   "outputs": [],
   "source": [
    "# conda: gridTools"
   ]
  },
  {
   "cell_type": "code",
   "execution_count": null,
   "id": "ff7c2ead",
   "metadata": {},
   "outputs": [],
   "source": [
    "# In this example, we recreate the polar sterographic IBCAO grid. \n",
    "# Part A: outside the gridtools library\n",
    "# Part B: using the gridtools library\n",
    "\n",
    "# IBCAO grid details\n",
    "#\n",
    "# Cartesian grid:\n",
    "#   dx: 2500 meters\n",
    "#   dy: 2500 meters\n",
    "# Grid extent:\n",
    "#   X: -2902500 to 2902500\n",
    "#   Y: -2902500 to 2902500\n",
    "# Projection:\n",
    "#   Stereographic\n",
    "#   lat_0=90.0 (latitude of projection center)\n",
    "#   lat_ts=75.0 (latitude where scale is not distorted)\n",
    "#   lon_0 (not specified, at lat_0=90 it can be any value, proj defaults to 0.0)\n",
    "\n",
    "# For proper orientation for plotting to match the IBCAO technical manual\n",
    "# please use lon_0=0.0 for a plotting parameter.\n",
    "\n",
    "# Example 5 is a python script that is similar to this notebook.\n",
    "# Example 5a is the same example but using a slightly different earth radius."
   ]
  },
  {
   "cell_type": "markdown",
   "id": "a36807dc",
   "metadata": {},
   "source": [
    "# Part A: Compute the grid ourselves"
   ]
  },
  {
   "cell_type": "code",
   "execution_count": null,
   "id": "a8868fb0",
   "metadata": {},
   "outputs": [],
   "source": [
    "import numpy as np\n",
    "import xarray as xr\n",
    "%matplotlib inline"
   ]
  },
  {
   "cell_type": "code",
   "execution_count": null,
   "id": "3d546e06",
   "metadata": {},
   "outputs": [],
   "source": [
    "# IBCAO\n",
    "# Working in cartesian coordinates, all values are in meters\n",
    "# NOTE: To create a true MOM6 supergrid, the cell spacing\n",
    "# is half the length of a full grid cell.\n",
    "dx = 5805000.0\n",
    "dy = 5805000.0\n",
    "gridResolution = 2500.0\n",
    "gridResolutionUnits = 'meters'\n",
    "ddx = gridResolution / 2.\n",
    "ddy = gridResolution / 2.\n",
    "x = np.arange(-(dx / 2.0), (dx / 2.0) + ddx, ddx, dtype=np.float32)\n",
    "y = np.arange(-(dy / 2.0), (dy / 2.0) + ddy, ddy, dtype=np.float32)"
   ]
  },
  {
   "cell_type": "code",
   "execution_count": null,
   "id": "7d2ad01b",
   "metadata": {},
   "outputs": [],
   "source": [
    "# This is the grid size\n",
    "x.shape, y.shape"
   ]
  },
  {
   "cell_type": "code",
   "execution_count": null,
   "id": "129ef56d",
   "metadata": {},
   "outputs": [],
   "source": [
    "# Create cartesian grid (x, y)\n",
    "# Confirm grid points and x, y coordinates"
   ]
  },
  {
   "cell_type": "code",
   "execution_count": null,
   "id": "0d21f378",
   "metadata": {},
   "outputs": [],
   "source": [
    "xx, yy = np.meshgrid(x, y)"
   ]
  },
  {
   "cell_type": "code",
   "execution_count": null,
   "id": "ea88664e",
   "metadata": {},
   "outputs": [],
   "source": [
    "# From the command line we can convert single points\n",
    "# gdaltransform -s_srs \"+ellps=WGS84 +proj=stere +lat_0=90 +lat_ts=75\" -t_srs EPSG:4326\n",
    "# The pyproj library provides for 2D array transformation of coordinates.\n",
    "\n",
    "from pyproj import CRS, Transformer\n",
    "\n",
    "PROJSTRING = \"+proj=stere +lat_0=90 +lat_ts=75 +ellps=WGS84\"\n",
    "\n",
    "# create the coordinate reference system\n",
    "crs = CRS.from_proj4(PROJSTRING)\n",
    "# create the projection from lon/lat to x/y\n",
    "proj = Transformer.from_crs(crs.geodetic_crs, crs)\n",
    "\n",
    "# compute the lon/lat\n",
    "lon, lat = proj.transform(xx, yy, direction='INVERSE')"
   ]
  },
  {
   "cell_type": "code",
   "execution_count": null,
   "id": "67cbbbeb",
   "metadata": {},
   "outputs": [],
   "source": [
    "# Confirm we have the correct grid points and lat lon values\n",
    "# Expected answers:\n",
    "# -2902500.0 -2902500.0 53.8170746379705 -45.0\n",
    "# 2902500.0 2902500.0 53.8170746379705 135.0\n",
    "# REF: https://www.ngdc.noaa.gov/mgg/bathymetry/arctic/IBCAO_TechnicalReference.PDF\n",
    "print(yy[0,0], xx[0,0], lat[0,0], lon[0,0])\n",
    "print(yy[y.shape[0]-1, x.shape[0]-1], xx[y.shape[0]-1, x.shape[0]-1], lat[y.shape[0]-1, x.shape[0]-1], lon[y.shape[0]-1, x.shape[0]-1])"
   ]
  },
  {
   "cell_type": "code",
   "execution_count": null,
   "id": "b2c678dd",
   "metadata": {},
   "outputs": [],
   "source": [
    "import os, sys\n",
    "from gridtools.gridutils import GridUtils"
   ]
  },
  {
   "cell_type": "code",
   "execution_count": null,
   "id": "47a7a1f4",
   "metadata": {},
   "outputs": [],
   "source": [
    "grd = GridUtils()"
   ]
  },
  {
   "cell_type": "code",
   "execution_count": null,
   "id": "f044073c",
   "metadata": {},
   "outputs": [],
   "source": [
    "grd.clearGrid()"
   ]
  },
  {
   "cell_type": "code",
   "execution_count": null,
   "id": "cf9e794e",
   "metadata": {},
   "outputs": [],
   "source": [
    "# Define IBCAO grid for gridtools library\n",
    "grd.setGridParameters({\n",
    "    'projection': {\n",
    "        'name': \"Stereographic\",\n",
    "        'ellps': 'WGS84',\n",
    "        'lon_0': 0.0,\n",
    "        'lat_0': 90.0,\n",
    "        'lat_ts': 75.0\n",
    "    },\n",
    "    'dx': dx,\n",
    "    'dy': dy,\n",
    "    'gridResolution': gridResolution,\n",
    "    'gridResolutionUnits': gridResolutionUnits\n",
    "})\n",
    "grd.grid['x'] = (('nyp','nxp'), lon)\n",
    "grd.grid['y'] = (('nyp','nxp'), lat)"
   ]
  },
  {
   "cell_type": "code",
   "execution_count": null,
   "id": "0c11b627",
   "metadata": {},
   "outputs": [],
   "source": [
    "# NOTE: Grid metadata are not added to the python object until \n",
    "# grid metrics are computed below.\n",
    "grd.grid"
   ]
  },
  {
   "cell_type": "code",
   "execution_count": null,
   "id": "6448c53e",
   "metadata": {},
   "outputs": [],
   "source": [
    "lat"
   ]
  },
  {
   "cell_type": "code",
   "execution_count": null,
   "id": "65a44c29",
   "metadata": {},
   "outputs": [],
   "source": [
    "grd.setPlotParameters(\n",
    "    {\n",
    "        'figsize': (8, 8),\n",
    "        'projection': {\n",
    "            'name': 'Stereographic',    \n",
    "            'lon_0': 0.0,\n",
    "            'lat_0': 90.0\n",
    "        },\n",
    "        'extent': [-180, 180, 60, 90],\n",
    "        'iLinewidth': 1,\n",
    "        'jLinewidth': 1,\n",
    "        'showGrid': True,\n",
    "        'title': 'Stereographic: IBCAO',\n",
    "        'iColor': 'y',\n",
    "        'jColor': 'k'\n",
    "    }\n",
    ")"
   ]
  },
  {
   "cell_type": "code",
   "execution_count": null,
   "id": "53d4b4bf",
   "metadata": {},
   "outputs": [],
   "source": [
    "(figure, axes) = grd.plotGrid()"
   ]
  },
  {
   "cell_type": "code",
   "execution_count": null,
   "id": "3c2a52eb",
   "metadata": {},
   "outputs": [],
   "source": [
    "figure"
   ]
  },
  {
   "cell_type": "code",
   "execution_count": null,
   "id": "551b8008",
   "metadata": {},
   "outputs": [],
   "source": [
    "# Compute grid metrics\n",
    "grd.computeGridMetricsSpherical(angleCalcMethod=1)"
   ]
  },
  {
   "cell_type": "code",
   "execution_count": null,
   "id": "bbe2962e",
   "metadata": {},
   "outputs": [],
   "source": [
    "grd.grid"
   ]
  },
  {
   "cell_type": "markdown",
   "id": "62f6d51a",
   "metadata": {},
   "source": [
    "# Part B: Use the gridtools library"
   ]
  },
  {
   "cell_type": "code",
   "execution_count": null,
   "id": "307be254",
   "metadata": {},
   "outputs": [],
   "source": [
    "# Clear the grid and plot parameters\n",
    "grd.clearGrid()"
   ]
  },
  {
   "cell_type": "code",
   "execution_count": null,
   "id": "e5614a35",
   "metadata": {},
   "outputs": [],
   "source": [
    "# From the technical documentation, we know:\n",
    "#  * the center point,\n",
    "#  * the grid extent\n",
    "#  * the grid resolution\n",
    "#  * the projection: standard ellipse and polar projection\n",
    "#  * the latitude of true scale\n",
    "#\n",
    "# The full size of the grid is 2902500 + 2902500 meters (5805000 meters)\n",
    "# North Pole: lat_0 = 90.0\n",
    "# Latitude of true scale: lat_ts = 75.0\n",
    "grd.setGridParameters({\n",
    "    'projection': {\n",
    "        'name': \"Stereographic\",\n",
    "        'ellps': 'WGS84',\n",
    "        'lon_0': 0.0,\n",
    "        'lat_0': 90.0,\n",
    "        'lat_ts': 75.0,\n",
    "    },\n",
    "    'centerX': 0.0,\n",
    "    'centerY': 90.0,\n",
    "    'cneterUnits': 'degrees',\n",
    "    'dx': 5805000.0,\n",
    "    'dy': 5805000.0,\n",
    "    'dxUnits': 'meters',\n",
    "    'dyUnits': 'meters',\n",
    "    'gridResolution': 2500.0,\n",
    "    'gridResolutionUnits': 'meters',\n",
    "    'tilt': 0.0,\n",
    "    'gridMode': 2,\n",
    "    'gridType': 'MOM6',\n",
    "    'ensureEvenI': True,\n",
    "    'ensureEvenJ': True,\n",
    "    'tileName': 'tile1',\n",
    "    'angleCalcMethod': 1\n",
    "})"
   ]
  },
  {
   "cell_type": "code",
   "execution_count": null,
   "id": "f5503ee4",
   "metadata": {},
   "outputs": [],
   "source": [
    "grd.makeGrid()"
   ]
  },
  {
   "cell_type": "code",
   "execution_count": null,
   "id": "a46afe9d",
   "metadata": {},
   "outputs": [],
   "source": [
    "grd.grid"
   ]
  },
  {
   "cell_type": "code",
   "execution_count": null,
   "id": "5ba30e93",
   "metadata": {},
   "outputs": [],
   "source": [
    "grd.setPlotParameters(\n",
    "    {\n",
    "        'figsize': (8, 8),\n",
    "        'projection': {\n",
    "            'name': 'Stereographic',    \n",
    "            'lon_0': 0.0,\n",
    "            'lat_0': 90.0\n",
    "        },\n",
    "        'extent': [-180, 180, 60, 90],\n",
    "        'iLinewidth': 1,\n",
    "        'jLinewidth': 1,\n",
    "        'showGrid': True,\n",
    "        'title': 'Stereographic: IBCAO',\n",
    "        'iColor': 'y',\n",
    "        'jColor': 'k'\n",
    "    }\n",
    ")"
   ]
  },
  {
   "cell_type": "code",
   "execution_count": null,
   "id": "31ee879d",
   "metadata": {},
   "outputs": [],
   "source": [
    "(figure, axes) = grd.plotGrid()"
   ]
  },
  {
   "cell_type": "code",
   "execution_count": null,
   "id": "d8dcc7de",
   "metadata": {},
   "outputs": [],
   "source": [
    "figure"
   ]
  },
  {
   "cell_type": "code",
   "execution_count": null,
   "id": "7bfc9e23-8391-4a02-a5ac-e0b9f1b63fc5",
   "metadata": {},
   "outputs": [],
   "source": [
    "grd.grid"
   ]
  }
 ],
 "metadata": {
  "kernelspec": {
   "display_name": "Python 3",
   "language": "python",
   "name": "python3"
  },
  "language_info": {
   "codemirror_mode": {
    "name": "ipython",
    "version": 3
   },
   "file_extension": ".py",
   "mimetype": "text/x-python",
   "name": "python",
   "nbconvert_exporter": "python",
   "pygments_lexer": "ipython3",
   "version": "3.7.10"
  }
 },
 "nbformat": 4,
 "nbformat_minor": 5
}
