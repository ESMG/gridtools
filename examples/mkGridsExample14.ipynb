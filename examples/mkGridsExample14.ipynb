{
 "cells": [
  {
   "cell_type": "code",
   "execution_count": null,
   "id": "d2dbad20-0050-4a4b-8fb6-45acca2fa5fe",
   "metadata": {},
   "outputs": [],
   "source": [
    "#!/bin/env python3\n",
    "\n",
    "# conda: gridTools\n",
    "\n",
    "import sys, os, logging\n",
    "import cartopy\n",
    "import numpy as np\n",
    "import xarray as xr\n",
    "from gridtools.gridutils import GridUtils\n",
    "from gridtools.datasource import DataSource\n",
    "%matplotlib inline\n",
    "\n",
    "# Test grid generation with small grid mercator which\n",
    "# causes calculation issues grid metric angle_dx\n",
    "\n",
    "# Setup a work directory\n",
    "wrkDir = '/import/AKWATERS/jrcermakiii/configs/zOutput'\n",
    "inputDir = os.path.join(wrkDir, \"INPUT\")\n",
    "\n",
    "# Initialize a grid object\n",
    "grd = GridUtils()\n",
    "\n",
    "# We can turn on extra output from the module\n",
    "grd.printMsg(\"Setting print and logging messages to the DEBUG level.\")\n",
    "logFilename = os.path.join(wrkDir, 'Mercator_angleDX_20x20.log')\n",
    "grd.setVerboseLevel(logging.DEBUG)\n",
    "grd.setDebugLevel(0)\n",
    "grd.setLogLevel(logging.DEBUG)\n",
    "grd.deleteLogfile(logFilename)\n",
    "grd.enableLogging(logFilename)"
   ]
  },
  {
   "cell_type": "code",
   "execution_count": null,
   "id": "ce14314d-a8c4-4afe-b1e1-d0016038aca9",
   "metadata": {},
   "outputs": [],
   "source": [
    "grd.clearGrid()"
   ]
  },
  {
   "cell_type": "code",
   "execution_count": null,
   "id": "65c60b10-bab7-4571-89f0-944ce5da046c",
   "metadata": {},
   "outputs": [],
   "source": [
    "# Default regional example grid\n",
    "# from https://github.com/nikizadehgfdl/grid_generation/blob/dev/jupynotebooks/regional_grid_spherical.ipynb\n",
    "\n",
    "tilt = 30.0\n",
    "\n",
    "# Specify the grid parameters\n",
    "grd.setGridParameters({\n",
    "    'projection': {\n",
    "        'name': 'LambertConformalConic',\n",
    "        'lon_0': 230.0,\n",
    "        'lat_0': 40.0,\n",
    "        'ellps': 'WGS84'\n",
    "    },\n",
    "    'centerX': 230.0,\n",
    "    'centerY': 40.0,\n",
    "    'centerUnits': 'degrees',\n",
    "    'dx': 20.0,\n",
    "    'dxUnits': 'degrees',\n",
    "    'dy': 30.0,\n",
    "    'dyUnits': 'degrees',\n",
    "    'tilt': tilt,\n",
    "    'gridResolution': 1.0,\n",
    "    'gridResolutionUnits': 'degrees',\n",
    "    'gridMode': 2,\n",
    "    'gridType': 'MOM6',\n",
    "    'ensureEvenI': True,\n",
    "    'ensureEvenJ': True,\n",
    "    'tileName': 'tile1',\n",
    "    'angleCalcMethod': 0\n",
    "})"
   ]
  },
  {
   "cell_type": "code",
   "execution_count": null,
   "id": "6f15af33-4f79-449b-ae9b-efbd93e34d90",
   "metadata": {},
   "outputs": [],
   "source": [
    "grd.makeGrid()"
   ]
  },
  {
   "cell_type": "code",
   "execution_count": null,
   "id": "2196de6a-1ff5-48e4-82ce-dab43aebeeee",
   "metadata": {},
   "outputs": [],
   "source": [
    "# Show in Lambert Conformal Conic\n",
    "grd.setPlotParameters(\n",
    "    {\n",
    "        'figsize': (8,8),\n",
    "        'projection': { \n",
    "            'name': 'LambertConformalConic',\n",
    "            'lon_0': 230.0,\n",
    "            'lat_1': 25.0,\n",
    "            'lat_2': 55.0\n",
    "        },\n",
    "        'extent': [-160.0 ,-100.0, 20.0, 60.0],\n",
    "        'iLinewidth': 1.0,\n",
    "        'jLinewidth': 1.0,\n",
    "        'showGridCells': True,\n",
    "        'title': 'Lambert Conformal Conic: 20x30 with %.1f degree tilt' % (tilt),\n",
    "        'iColor': 'k',\n",
    "        'jColor': 'k',\n",
    "        'transform': cartopy.crs.PlateCarree()\n",
    "    }\n",
    ")"
   ]
  },
  {
   "cell_type": "code",
   "execution_count": null,
   "id": "e5a159a6-6252-4782-9b3d-16851e5ae555",
   "metadata": {},
   "outputs": [],
   "source": [
    "(figure, axes) = grd.plotGrid()\n",
    "axes.gridlines(draw_labels=True)"
   ]
  },
  {
   "cell_type": "code",
   "execution_count": null,
   "id": "c08c7608-fd8c-4048-aefa-1b8545814727",
   "metadata": {},
   "outputs": [],
   "source": [
    "figure"
   ]
  },
  {
   "cell_type": "code",
   "execution_count": null,
   "id": "7954e90f-58ba-4b93-865a-57bbb3c8ffcf",
   "metadata": {},
   "outputs": [],
   "source": [
    "# Plot grid (angle_dx)\n",
    "(figure, axes) = grd.plotGrid(\n",
    "    showModelGrid=False,\n",
    "    plotVariables={\n",
    "        'angle_dx': {\n",
    "            'values': grd.grid['angle_dx'],\n",
    "            'title': 'angle_dx',\n",
    "            'cbar_kwargs': {\n",
    "                'orientation': 'horizontal',\n",
    "            }\n",
    "        }\n",
    "    },\n",
    ")\n",
    "axes.gridlines(draw_labels=True)"
   ]
  },
  {
   "cell_type": "code",
   "execution_count": null,
   "id": "8917d650-215e-4495-91a3-001367cc9f18",
   "metadata": {
    "tags": []
   },
   "outputs": [],
   "source": [
    "figure"
   ]
  },
  {
   "cell_type": "code",
   "execution_count": null,
   "id": "8e2d2272-096d-4e37-bc21-99fa41f02711",
   "metadata": {},
   "outputs": [],
   "source": [
    "grd.clearGrid()"
   ]
  },
  {
   "cell_type": "code",
   "execution_count": null,
   "id": "9f42accf-c487-4e89-ae18-2897b30aec69",
   "metadata": {},
   "outputs": [],
   "source": [
    "# Grid tilt reduced"
   ]
  },
  {
   "cell_type": "code",
   "execution_count": null,
   "id": "dcc36211-49ea-4fd0-b098-de754f27e77e",
   "metadata": {},
   "outputs": [],
   "source": [
    "# Default regional example grid\n",
    "# from https://github.com/nikizadehgfdl/grid_generation/blob/dev/jupynotebooks/regional_grid_spherical.ipynb\n",
    "\n",
    "tilt = 0.0\n",
    "angleCalcMethod = 0\n",
    "\n",
    "# Specify the grid parameters\n",
    "grd.setGridParameters({\n",
    "    'projection': {\n",
    "        'name': 'LambertConformalConic',\n",
    "        'lon_0': 230.0,\n",
    "        'lat_0': 40.0,\n",
    "        'ellps': 'WGS84'\n",
    "    },\n",
    "    'centerX': 230.0,\n",
    "    'centerY': 40.0,\n",
    "    'centerUnits': 'degrees',\n",
    "    'dx': 20.0,\n",
    "    'dxUnits': 'degrees',\n",
    "    'dy': 30.0,\n",
    "    'dyUnits': 'degrees',\n",
    "    'tilt': tilt,\n",
    "    'gridResolution': 1.0,\n",
    "    'gridResolutionUnits': 'degrees',\n",
    "    'gridMode': 2,\n",
    "    'gridType': 'MOM6',\n",
    "    'ensureEvenI': True,\n",
    "    'ensureEvenJ': True,\n",
    "    'tileName': 'tile1',\n",
    "    'angleCalcMethod': angleCalcMethod\n",
    "})"
   ]
  },
  {
   "cell_type": "code",
   "execution_count": null,
   "id": "f613bf7d-4084-4d71-82cc-2db2dc2bc476",
   "metadata": {},
   "outputs": [],
   "source": [
    "grd.makeGrid()"
   ]
  },
  {
   "cell_type": "code",
   "execution_count": null,
   "id": "4357bfc9-22c0-41d8-af94-5ef478e38884",
   "metadata": {},
   "outputs": [],
   "source": [
    "# Show in Lambert Conformal Conic\n",
    "grd.setPlotParameters(\n",
    "    {\n",
    "        'figsize': (8,8),\n",
    "        'projection': { \n",
    "            'name': 'LambertConformalConic',\n",
    "            'lon_0': 230.0,\n",
    "            'lat_1': 25.0,\n",
    "            'lat_2': 55.0\n",
    "        },\n",
    "        'extent': [-160.0 ,-100.0, 20.0, 60.0],\n",
    "        'iLinewidth': 1.0,\n",
    "        'jLinewidth': 1.0,\n",
    "        'showGridCells': True,\n",
    "        'title': 'Lambert Conformal Conic: 20x30 with %.1f degree tilt' % (tilt),\n",
    "        'iColor': 'k',\n",
    "        'jColor': 'k',\n",
    "        'transform': cartopy.crs.PlateCarree()\n",
    "    }\n",
    ")"
   ]
  },
  {
   "cell_type": "code",
   "execution_count": null,
   "id": "c929f879-d677-4fb2-8554-9b33146f379a",
   "metadata": {},
   "outputs": [],
   "source": [
    "(figure, axes) = grd.plotGrid()\n",
    "axes.gridlines(draw_labels=True)"
   ]
  },
  {
   "cell_type": "code",
   "execution_count": null,
   "id": "06774d4d-1df4-4e66-9624-24cfbbfcfa89",
   "metadata": {},
   "outputs": [],
   "source": [
    "figure"
   ]
  },
  {
   "cell_type": "code",
   "execution_count": null,
   "id": "a94e4d4b-6f2a-4684-a9be-2513a2a6b7ec",
   "metadata": {},
   "outputs": [],
   "source": [
    "# Plot grid (angle_dx)\n",
    "(figure, axes) = grd.plotGrid(\n",
    "    showModelGrid=False,\n",
    "    plotVariables={\n",
    "        'angle_dx': {\n",
    "            'values': grd.grid['angle_dx'],\n",
    "            'title': 'angle_dx (angleCalcMethod: %d)' % (angleCalcMethod),\n",
    "            'cbar_kwargs': {\n",
    "                'orientation': 'horizontal',\n",
    "            }\n",
    "        }\n",
    "    },\n",
    ")\n",
    "axes.gridlines(draw_labels=True)"
   ]
  },
  {
   "cell_type": "code",
   "execution_count": null,
   "id": "88c3c685-54f6-447e-9235-f19f5555fb0d",
   "metadata": {
    "tags": []
   },
   "outputs": [],
   "source": [
    "figure"
   ]
  },
  {
   "cell_type": "code",
   "execution_count": null,
   "id": "f5168687-4662-48bc-a52d-f95e4fabf72a",
   "metadata": {},
   "outputs": [],
   "source": [
    "grd.clearGrid()"
   ]
  },
  {
   "cell_type": "code",
   "execution_count": null,
   "id": "4bd4bdaa-468f-4679-9b85-66dc753a28f5",
   "metadata": {},
   "outputs": [],
   "source": [
    "# Default regional example grid\n",
    "# from https://github.com/nikizadehgfdl/grid_generation/blob/dev/jupynotebooks/regional_grid_spherical.ipynb\n",
    "\n",
    "tilt = 0.0\n",
    "angleCalcMethod = 1\n",
    "\n",
    "# Specify the grid parameters\n",
    "grd.setGridParameters({\n",
    "    'projection': {\n",
    "        'name': 'LambertConformalConic',\n",
    "        'lon_0': 230.0,\n",
    "        'lat_0': 40.0,\n",
    "        'ellps': 'WGS84'\n",
    "    },\n",
    "    'centerX': 230.0,\n",
    "    'centerY': 40.0,\n",
    "    'centerUnits': 'degrees',\n",
    "    'dx': 20.0,\n",
    "    'dxUnits': 'degrees',\n",
    "    'dy': 30.0,\n",
    "    'dyUnits': 'degrees',\n",
    "    'tilt': tilt,\n",
    "    'gridResolution': 1.0,\n",
    "    'gridResolutionUnits': 'degrees',\n",
    "    'gridMode': 2,\n",
    "    'gridType': 'MOM6',\n",
    "    'ensureEvenI': True,\n",
    "    'ensureEvenJ': True,\n",
    "    'tileName': 'tile1',\n",
    "    'angleCalcMethod': angleCalcMethod\n",
    "})"
   ]
  },
  {
   "cell_type": "code",
   "execution_count": null,
   "id": "72ee1776-c4d1-47c1-bc04-04dfe854959a",
   "metadata": {},
   "outputs": [],
   "source": [
    "grd.makeGrid()"
   ]
  },
  {
   "cell_type": "code",
   "execution_count": null,
   "id": "e7d1cb9b-6028-4cca-8ab5-cf73854cc769",
   "metadata": {},
   "outputs": [],
   "source": [
    "# Show in Lambert Conformal Conic\n",
    "grd.setPlotParameters(\n",
    "    {\n",
    "        'figsize': (8,8),\n",
    "        'projection': { \n",
    "            'name': 'LambertConformalConic',\n",
    "            'lon_0': 230.0,\n",
    "            'lat_1': 25.0,\n",
    "            'lat_2': 55.0\n",
    "        },\n",
    "        'extent': [-160.0 ,-100.0, 20.0, 60.0],\n",
    "        'iLinewidth': 1.0,\n",
    "        'jLinewidth': 1.0,\n",
    "        'showGridCells': True,\n",
    "        'title': 'Lambert Conformal Conic: 20x30 with %.1f degree tilt' % (tilt),\n",
    "        'iColor': 'k',\n",
    "        'jColor': 'k',\n",
    "        'transform': cartopy.crs.PlateCarree()\n",
    "    }\n",
    ")"
   ]
  },
  {
   "cell_type": "code",
   "execution_count": null,
   "id": "69544b15-3d5b-4929-b896-a173cc22119d",
   "metadata": {},
   "outputs": [],
   "source": [
    "(figure, axes) = grd.plotGrid()\n",
    "axes.gridlines(draw_labels=True)"
   ]
  },
  {
   "cell_type": "code",
   "execution_count": null,
   "id": "75f1aa1a-029b-4c1d-b235-41f5bf607a38",
   "metadata": {},
   "outputs": [],
   "source": [
    "figure"
   ]
  },
  {
   "cell_type": "code",
   "execution_count": null,
   "id": "0c4c334a-5e82-4399-816a-c8037b4be827",
   "metadata": {},
   "outputs": [],
   "source": [
    "# Plot grid (angle_dx)\n",
    "(figure, axes) = grd.plotGrid(\n",
    "    showModelGrid=False,\n",
    "    plotVariables={\n",
    "        'angle_dx': {\n",
    "            'values': grd.grid['angle_dx'],\n",
    "            'title': 'angle_dx (angleCalcMethod: %d)' % (angleCalcMethod),\n",
    "            'cbar_kwargs': {\n",
    "                'orientation': 'horizontal',\n",
    "            }\n",
    "        }\n",
    "    },\n",
    ")\n",
    "axes.gridlines(draw_labels=True)"
   ]
  },
  {
   "cell_type": "code",
   "execution_count": null,
   "id": "4d878057-9188-4915-9ddf-596642288f96",
   "metadata": {
    "tags": []
   },
   "outputs": [],
   "source": [
    "figure"
   ]
  },
  {
   "cell_type": "code",
   "execution_count": null,
   "id": "7acb0409-e483-4f72-a7d5-efb44b636da6",
   "metadata": {},
   "outputs": [],
   "source": [
    "# Mercator grid tests\n",
    "\n",
    "# Make sure we erase any previous grid, grid parameters and plot parameters.\n",
    "grd.clearGrid()"
   ]
  },
  {
   "cell_type": "code",
   "execution_count": null,
   "id": "37b9a611-1cb3-4f62-bb55-2cbad1390fba",
   "metadata": {},
   "outputs": [],
   "source": [
    "# Specify the grid parameters\n",
    "# gridMode should be 2.0 for supergrid\n",
    "gtilt = 0.0\n",
    "angleCalcMethod = 1\n",
    "grd.printMsg(\"Set grid parameters.\")\n",
    "grd.setGridParameters({\n",
    "    'projection': {\n",
    "        'name': 'Mercator',\n",
    "        'lon_0': 0.0,\n",
    "        'lat_0': 0.0,\n",
    "        'lat_ts': 0.0,\n",
    "        'ellps': 'WGS84'\n",
    "    },\n",
    "    'centerX': 0.0,\n",
    "    'centerY': 0.0,\n",
    "    'centerUnits': 'degress',\n",
    "    'dx': 2.0,\n",
    "    'dxUnits': 'degrees',\n",
    "    'dy': 2.0,\n",
    "    'dyUnits': 'degrees',\n",
    "    'tilt': gtilt,\n",
    "    'gridResolutionX': 0.1,\n",
    "    'gridResolutionY': 0.1,\n",
    "    'gridResolution': 0.1,\n",
    "    'gridResolutionXUnits': 'degrees',\n",
    "    'gridResolutionYUnits': 'degrees',\n",
    "    'gridResolutionUnits': 'degrees',\n",
    "    'gridMode': 2,\n",
    "    'gridType': 'MOM6',\n",
    "    'ensureEvenI': True,\n",
    "    'ensureEvenJ': True,\n",
    "    'tileName': 'tile1',\n",
    "    'angleCalcMethod': angleCalcMethod\n",
    "})\n",
    "grd.printMsg(\"\")\n",
    "\n",
    "# This forms a grid in memory using the specified grid parameters\n",
    "grd.makeGrid()\n",
    "grd.printMsg(\"\")"
   ]
  },
  {
   "cell_type": "code",
   "execution_count": null,
   "id": "1950f6d2-a27b-4a7f-bee4-2d8a5bc64316",
   "metadata": {},
   "outputs": [],
   "source": [
    "# Plot grid\n",
    "# Show the new grid\n",
    "grd.setPlotParameters(\n",
    "    {\n",
    "        'figsize': (8,8),\n",
    "        'projection': {\n",
    "            'name': 'Mercator',\n",
    "            'lat_0': 0.0,\n",
    "            'lon_0': 0.0,\n",
    "            'ellps': 'WGS84'\n",
    "        },\n",
    "        'extent': [-1.5 ,1.5, -1.5, 1.5],\n",
    "        'iLinewidth': 1.0,\n",
    "        'jLinewidth': 1.0,\n",
    "        'showGridCells': True,\n",
    "        'title': \"Mercator projection: 20x20\",\n",
    "        'iColor': 'k',\n",
    "        'jColor': 'k',\n",
    "        'transform': cartopy.crs.PlateCarree()\n",
    "    }\n",
    ")\n"
   ]
  },
  {
   "cell_type": "code",
   "execution_count": null,
   "id": "841bc3ab-c222-41a1-848c-768c7ddb1c86",
   "metadata": {},
   "outputs": [],
   "source": [
    "(figure, axes) = grd.plotGrid()\n",
    "axes.gridlines(draw_labels=True)"
   ]
  },
  {
   "cell_type": "code",
   "execution_count": null,
   "id": "1ee61e79-7ff9-4962-a26c-59579b357551",
   "metadata": {},
   "outputs": [],
   "source": [
    "figure"
   ]
  },
  {
   "cell_type": "code",
   "execution_count": null,
   "id": "86756b99-739e-4e1e-83a5-569184f2bb9a",
   "metadata": {},
   "outputs": [],
   "source": [
    "# Plot grid (angle_dx)\n",
    "(figure, axes) = grd.plotGrid(\n",
    "    showModelGrid=False,\n",
    "    plotVariables={\n",
    "        'angle_dx': {\n",
    "            'values': grd.grid['angle_dx'],\n",
    "            'title': 'angle_dx (angleCalcMethod: %d)' % (angleCalcMethod),\n",
    "            'cbar_kwargs': {\n",
    "                'orientation': 'horizontal',\n",
    "            }\n",
    "        }\n",
    "    },\n",
    ")\n",
    "axes.gridlines(draw_labels=True)"
   ]
  },
  {
   "cell_type": "code",
   "execution_count": null,
   "id": "69861af2-938b-4e70-806b-1bf14594ca9c",
   "metadata": {
    "tags": []
   },
   "outputs": [],
   "source": [
    "figure"
   ]
  },
  {
   "cell_type": "code",
   "execution_count": null,
   "id": "1761c486-95f1-4ee5-bc09-55c254644c87",
   "metadata": {},
   "outputs": [],
   "source": [
    "# angle_dx does not work for Mercator grids around zero longitude"
   ]
  },
  {
   "cell_type": "code",
   "execution_count": null,
   "id": "ceb85a68-4094-433f-b2fa-7fe7a39ea7f5",
   "metadata": {},
   "outputs": [],
   "source": [
    "# Make sure we erase any previous grid, grid parameters and plot parameters.\n",
    "grd.clearGrid()\n",
    "\n",
    "# Specify the grid parameters\n",
    "# gridMode should be 2.0 for supergrid\n",
    "gtilt = 0.0\n",
    "angleCalcMethod = 0\n",
    "grd.printMsg(\"Set grid parameters.\")\n",
    "grd.setGridParameters({\n",
    "    'projection': {\n",
    "        'name': 'Mercator',\n",
    "        'lon_0': 0.0,\n",
    "        'lat_0': 0.0,\n",
    "        'lat_ts': 0.0,\n",
    "        'ellps': 'WGS84'\n",
    "    },\n",
    "    'centerX': 0.0,\n",
    "    'centerY': 0.0,\n",
    "    'centerUnits': 'degress',\n",
    "    'dx': 20.0,\n",
    "    'dxUnits': 'degrees',\n",
    "    'dy': 20.0,\n",
    "    'dyUnits': 'degrees',\n",
    "    'tilt': gtilt,\n",
    "    'gridResolutionX': 1.0,\n",
    "    'gridResolutionY': 1.0,\n",
    "    'gridResolution': 1.0,\n",
    "    'gridResolutionXUnits': 'degrees',\n",
    "    'gridResolutionYUnits': 'degrees',\n",
    "    'gridResolutionUnits': 'degrees',\n",
    "    'gridMode': 2,\n",
    "    'gridType': 'MOM6',\n",
    "    'ensureEvenI': True,\n",
    "    'ensureEvenJ': True,\n",
    "    'tileName': 'tile1',\n",
    "    'angleCalcMethod': angleCalcMethod\n",
    "})\n",
    "grd.printMsg(\"\")\n",
    "\n",
    "# This forms a grid in memory using the specified grid parameters\n",
    "grd.makeGrid()\n",
    "grd.printMsg(\"\")"
   ]
  },
  {
   "cell_type": "code",
   "execution_count": null,
   "id": "35df043e-260c-401c-9543-4b9e815fabab",
   "metadata": {},
   "outputs": [],
   "source": [
    "# Plot grid\n",
    "# Show the new grid\n",
    "grd.setPlotParameters(\n",
    "    {\n",
    "        'figsize': (8,8),\n",
    "        'projection': {\n",
    "            'name': 'Mercator',\n",
    "            'lat_0': 0.0,\n",
    "            'lon_0': 0.0,\n",
    "            'ellps': 'WGS84'\n",
    "        },\n",
    "        'extent': [-21.5 ,21.5, -21.5, 21.5],\n",
    "        'iLinewidth': 1.0,\n",
    "        'jLinewidth': 1.0,\n",
    "        'showGridCells': True,\n",
    "        'title': \"Mercator projection: 20x20\",\n",
    "        'iColor': 'k',\n",
    "        'jColor': 'k',\n",
    "        'transform': cartopy.crs.PlateCarree()\n",
    "    }\n",
    ")\n"
   ]
  },
  {
   "cell_type": "code",
   "execution_count": null,
   "id": "5b9be103-444f-456d-b331-710775a5298d",
   "metadata": {},
   "outputs": [],
   "source": [
    "(figure, axes) = grd.plotGrid()\n",
    "axes.gridlines(draw_labels=True)"
   ]
  },
  {
   "cell_type": "code",
   "execution_count": null,
   "id": "2e96a764-8a88-458e-83a4-353a23cd72ba",
   "metadata": {},
   "outputs": [],
   "source": [
    "figure"
   ]
  },
  {
   "cell_type": "code",
   "execution_count": null,
   "id": "f1adb71f-1b3f-47f7-9e3b-6f16d4c8badf",
   "metadata": {},
   "outputs": [],
   "source": [
    "# Plot grid (angle_dx)\n",
    "(figure, axes) = grd.plotGrid(\n",
    "    showModelGrid=False,\n",
    "    plotVariables={\n",
    "        'angle_dx': {\n",
    "            'values': grd.grid['angle_dx'],\n",
    "            'title': 'angle_dx (angleCalcMethod: %d)' % (angleCalcMethod),\n",
    "            'cbar_kwargs': {\n",
    "                'orientation': 'horizontal',\n",
    "            }\n",
    "        }\n",
    "    },\n",
    ")\n",
    "axes.gridlines(draw_labels=True)"
   ]
  },
  {
   "cell_type": "code",
   "execution_count": null,
   "id": "3d1ef33d-2f50-4ab9-80fa-17c9a21190bb",
   "metadata": {
    "tags": []
   },
   "outputs": [],
   "source": [
    "figure"
   ]
  }
 ],
 "metadata": {
  "kernelspec": {
   "display_name": "Python 3",
   "language": "python",
   "name": "python3"
  },
  "language_info": {
   "codemirror_mode": {
    "name": "ipython",
    "version": 3
   },
   "file_extension": ".py",
   "mimetype": "text/x-python",
   "name": "python",
   "nbconvert_exporter": "python",
   "pygments_lexer": "ipython3",
   "version": "3.7.10"
  }
 },
 "nbformat": 4,
 "nbformat_minor": 5
}
